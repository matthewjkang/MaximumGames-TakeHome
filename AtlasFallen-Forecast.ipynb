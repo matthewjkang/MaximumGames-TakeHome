{
 "cells": [
  {
   "cell_type": "markdown",
   "id": "4cb53627",
   "metadata": {},
   "source": [
    "# <u><center>Step 1 - Prepare the data<center></u>\n",
    "<br>"
   ]
  },
  {
   "cell_type": "markdown",
   "id": "8953f165",
   "metadata": {},
   "source": [
    "### 1a) Load the preorder_data.csv into a pandas dataframe (40,704 rows)"
   ]
  },
  {
   "cell_type": "code",
   "execution_count": 122,
   "id": "0deb61b9",
   "metadata": {},
   "outputs": [
    {
     "data": {
      "text/html": [
       "<div>\n",
       "<style scoped>\n",
       "    .dataframe tbody tr th:only-of-type {\n",
       "        vertical-align: middle;\n",
       "    }\n",
       "\n",
       "    .dataframe tbody tr th {\n",
       "        vertical-align: top;\n",
       "    }\n",
       "\n",
       "    .dataframe thead th {\n",
       "        text-align: right;\n",
       "    }\n",
       "</style>\n",
       "<table border=\"1\" class=\"dataframe\">\n",
       "  <thead>\n",
       "    <tr style=\"text-align: right;\">\n",
       "      <th></th>\n",
       "      <th>date</th>\n",
       "      <th>title</th>\n",
       "      <th>release_date</th>\n",
       "      <th>platform</th>\n",
       "      <th>subsidiary</th>\n",
       "      <th>account</th>\n",
       "      <th>distributor</th>\n",
       "      <th>units_sold</th>\n",
       "      <th>weeks_before_launch</th>\n",
       "      <th>preorder_status</th>\n",
       "    </tr>\n",
       "  </thead>\n",
       "  <tbody>\n",
       "    <tr>\n",
       "      <th>0</th>\n",
       "      <td>2023-05-27</td>\n",
       "      <td>Windstorm: An Unexpected Arrival</td>\n",
       "      <td>2023-12-31</td>\n",
       "      <td>PS4</td>\n",
       "      <td>US</td>\n",
       "      <td>Target.com</td>\n",
       "      <td>U&amp;I</td>\n",
       "      <td>15.0</td>\n",
       "      <td>32</td>\n",
       "      <td>Current</td>\n",
       "    </tr>\n",
       "    <tr>\n",
       "      <th>1</th>\n",
       "      <td>2023-05-27</td>\n",
       "      <td>Tintin Reporter: Cigars of the Pharaoh - Limit...</td>\n",
       "      <td>2023-12-31</td>\n",
       "      <td>Nintendo Switch</td>\n",
       "      <td>UK/EU</td>\n",
       "      <td>Amazon UK</td>\n",
       "      <td>NaN</td>\n",
       "      <td>17.0</td>\n",
       "      <td>32</td>\n",
       "      <td>Current</td>\n",
       "    </tr>\n",
       "    <tr>\n",
       "      <th>2</th>\n",
       "      <td>2023-05-06</td>\n",
       "      <td>Tintin Reporter: Cigars of the Pharaoh - Limit...</td>\n",
       "      <td>2023-12-31</td>\n",
       "      <td>Nintendo Switch</td>\n",
       "      <td>UK/EU</td>\n",
       "      <td>Argos Online</td>\n",
       "      <td>Centresoft</td>\n",
       "      <td>16.0</td>\n",
       "      <td>35</td>\n",
       "      <td>Current</td>\n",
       "    </tr>\n",
       "    <tr>\n",
       "      <th>3</th>\n",
       "      <td>2023-05-13</td>\n",
       "      <td>Tintin Reporter: Cigars of the Pharaoh - Limit...</td>\n",
       "      <td>2023-12-31</td>\n",
       "      <td>Nintendo Switch</td>\n",
       "      <td>UK/EU</td>\n",
       "      <td>Argos Online</td>\n",
       "      <td>Centresoft</td>\n",
       "      <td>15.0</td>\n",
       "      <td>34</td>\n",
       "      <td>Current</td>\n",
       "    </tr>\n",
       "    <tr>\n",
       "      <th>...</th>\n",
       "      <td>...</td>\n",
       "      <td>...</td>\n",
       "      <td>...</td>\n",
       "      <td>...</td>\n",
       "      <td>...</td>\n",
       "      <td>...</td>\n",
       "      <td>...</td>\n",
       "      <td>...</td>\n",
       "      <td>...</td>\n",
       "      <td>...</td>\n",
       "    </tr>\n",
       "    <tr>\n",
       "      <th>40700</th>\n",
       "      <td>2021-01-09</td>\n",
       "      <td>Five Nights at Freddy's: Core Collection</td>\n",
       "      <td>2021-01-12</td>\n",
       "      <td>Nintendo Switch</td>\n",
       "      <td>UK/EU</td>\n",
       "      <td>Argos</td>\n",
       "      <td>Centresoft</td>\n",
       "      <td>15.0</td>\n",
       "      <td>1</td>\n",
       "      <td>Current</td>\n",
       "    </tr>\n",
       "    <tr>\n",
       "      <th>40701</th>\n",
       "      <td>2021-01-09</td>\n",
       "      <td>Five Nights at Freddy's: Core Collection</td>\n",
       "      <td>2021-01-12</td>\n",
       "      <td>Nintendo Switch</td>\n",
       "      <td>UK/EU</td>\n",
       "      <td>Amazon UK</td>\n",
       "      <td>NaN</td>\n",
       "      <td>82.0</td>\n",
       "      <td>1</td>\n",
       "      <td>Current</td>\n",
       "    </tr>\n",
       "    <tr>\n",
       "      <th>40702</th>\n",
       "      <td>2021-01-02</td>\n",
       "      <td>Five Nights at Freddy's: Core Collection</td>\n",
       "      <td>2021-01-12</td>\n",
       "      <td>Nintendo Switch</td>\n",
       "      <td>UK/EU</td>\n",
       "      <td>Amazon UK</td>\n",
       "      <td>NaN</td>\n",
       "      <td>78.0</td>\n",
       "      <td>2</td>\n",
       "      <td>Current</td>\n",
       "    </tr>\n",
       "    <tr>\n",
       "      <th>40703</th>\n",
       "      <td>2021-01-09</td>\n",
       "      <td>Five Nights at Freddy's: Core Collection</td>\n",
       "      <td>2021-01-12</td>\n",
       "      <td>Nintendo Switch</td>\n",
       "      <td>UK/EU</td>\n",
       "      <td>NaN</td>\n",
       "      <td>Just for Games</td>\n",
       "      <td>104.0</td>\n",
       "      <td>1</td>\n",
       "      <td>Current</td>\n",
       "    </tr>\n",
       "  </tbody>\n",
       "</table>\n",
       "<p>40704 rows × 10 columns</p>\n",
       "</div>"
      ],
      "text/plain": [
       "             date                                              title  \\\n",
       "0      2023-05-27                   Windstorm: An Unexpected Arrival   \n",
       "1      2023-05-27  Tintin Reporter: Cigars of the Pharaoh - Limit...   \n",
       "2      2023-05-06  Tintin Reporter: Cigars of the Pharaoh - Limit...   \n",
       "3      2023-05-13  Tintin Reporter: Cigars of the Pharaoh - Limit...   \n",
       "...           ...                                                ...   \n",
       "40700  2021-01-09           Five Nights at Freddy's: Core Collection   \n",
       "40701  2021-01-09           Five Nights at Freddy's: Core Collection   \n",
       "40702  2021-01-02           Five Nights at Freddy's: Core Collection   \n",
       "40703  2021-01-09           Five Nights at Freddy's: Core Collection   \n",
       "\n",
       "      release_date         platform subsidiary       account     distributor  \\\n",
       "0       2023-12-31              PS4         US    Target.com             U&I   \n",
       "1       2023-12-31  Nintendo Switch      UK/EU     Amazon UK             NaN   \n",
       "2       2023-12-31  Nintendo Switch      UK/EU  Argos Online      Centresoft   \n",
       "3       2023-12-31  Nintendo Switch      UK/EU  Argos Online      Centresoft   \n",
       "...            ...              ...        ...           ...             ...   \n",
       "40700   2021-01-12  Nintendo Switch      UK/EU         Argos      Centresoft   \n",
       "40701   2021-01-12  Nintendo Switch      UK/EU     Amazon UK             NaN   \n",
       "40702   2021-01-12  Nintendo Switch      UK/EU     Amazon UK             NaN   \n",
       "40703   2021-01-12  Nintendo Switch      UK/EU           NaN  Just for Games   \n",
       "\n",
       "       units_sold  weeks_before_launch preorder_status  \n",
       "0            15.0                   32         Current  \n",
       "1            17.0                   32         Current  \n",
       "2            16.0                   35         Current  \n",
       "3            15.0                   34         Current  \n",
       "...           ...                  ...             ...  \n",
       "40700        15.0                    1         Current  \n",
       "40701        82.0                    1         Current  \n",
       "40702        78.0                    2         Current  \n",
       "40703       104.0                    1         Current  \n",
       "\n",
       "[40704 rows x 10 columns]"
      ]
     },
     "execution_count": 122,
     "metadata": {},
     "output_type": "execute_result"
    }
   ],
   "source": [
    "import pandas # for manipulating data\n",
    "pandas.set_option('display.max_rows', 8) # just a style change, changing the default number of rows shown to 8\n",
    "\n",
    "df = pandas.read_csv('preorder_data.csv') #df is our dataframe that contains all preorder data\n",
    "df"
   ]
  },
  {
   "cell_type": "markdown",
   "id": "1d57cf35",
   "metadata": {},
   "source": [
    "### 1b)  Select only the rows where the title is \"Atlas Fallen\" (668 rows)\n"
   ]
  },
  {
   "cell_type": "code",
   "execution_count": 80,
   "id": "3880920f",
   "metadata": {
    "scrolled": true
   },
   "outputs": [
    {
     "data": {
      "text/html": [
       "<div>\n",
       "<style scoped>\n",
       "    .dataframe tbody tr th:only-of-type {\n",
       "        vertical-align: middle;\n",
       "    }\n",
       "\n",
       "    .dataframe tbody tr th {\n",
       "        vertical-align: top;\n",
       "    }\n",
       "\n",
       "    .dataframe thead th {\n",
       "        text-align: right;\n",
       "    }\n",
       "</style>\n",
       "<table border=\"1\" class=\"dataframe\">\n",
       "  <thead>\n",
       "    <tr style=\"text-align: right;\">\n",
       "      <th></th>\n",
       "      <th>date</th>\n",
       "      <th>title</th>\n",
       "      <th>release_date</th>\n",
       "      <th>platform</th>\n",
       "      <th>subsidiary</th>\n",
       "      <th>account</th>\n",
       "      <th>distributor</th>\n",
       "      <th>units_sold</th>\n",
       "      <th>weeks_before_launch</th>\n",
       "      <th>preorder_status</th>\n",
       "    </tr>\n",
       "  </thead>\n",
       "  <tbody>\n",
       "    <tr>\n",
       "      <th>3210</th>\n",
       "      <td>2023-04-29</td>\n",
       "      <td>Atlas Fallen</td>\n",
       "      <td>2023-08-10</td>\n",
       "      <td>XSX</td>\n",
       "      <td>UK/EU</td>\n",
       "      <td>Smyths Toys</td>\n",
       "      <td>NaN</td>\n",
       "      <td>15.0</td>\n",
       "      <td>15</td>\n",
       "      <td>Current</td>\n",
       "    </tr>\n",
       "    <tr>\n",
       "      <th>3211</th>\n",
       "      <td>2023-04-22</td>\n",
       "      <td>Atlas Fallen</td>\n",
       "      <td>2023-08-10</td>\n",
       "      <td>XSX</td>\n",
       "      <td>UK/EU</td>\n",
       "      <td>Smyths Toys</td>\n",
       "      <td>NaN</td>\n",
       "      <td>15.0</td>\n",
       "      <td>16</td>\n",
       "      <td>Current</td>\n",
       "    </tr>\n",
       "    <tr>\n",
       "      <th>3212</th>\n",
       "      <td>2023-04-15</td>\n",
       "      <td>Atlas Fallen</td>\n",
       "      <td>2023-08-10</td>\n",
       "      <td>XSX</td>\n",
       "      <td>UK/EU</td>\n",
       "      <td>Smyths Toys</td>\n",
       "      <td>NaN</td>\n",
       "      <td>15.0</td>\n",
       "      <td>17</td>\n",
       "      <td>Current</td>\n",
       "    </tr>\n",
       "    <tr>\n",
       "      <th>3213</th>\n",
       "      <td>2023-04-08</td>\n",
       "      <td>Atlas Fallen</td>\n",
       "      <td>2023-08-10</td>\n",
       "      <td>XSX</td>\n",
       "      <td>UK/EU</td>\n",
       "      <td>Smyths Toys</td>\n",
       "      <td>NaN</td>\n",
       "      <td>15.0</td>\n",
       "      <td>18</td>\n",
       "      <td>Current</td>\n",
       "    </tr>\n",
       "    <tr>\n",
       "      <th>...</th>\n",
       "      <td>...</td>\n",
       "      <td>...</td>\n",
       "      <td>...</td>\n",
       "      <td>...</td>\n",
       "      <td>...</td>\n",
       "      <td>...</td>\n",
       "      <td>...</td>\n",
       "      <td>...</td>\n",
       "      <td>...</td>\n",
       "      <td>...</td>\n",
       "    </tr>\n",
       "    <tr>\n",
       "      <th>3874</th>\n",
       "      <td>2022-12-03</td>\n",
       "      <td>Atlas Fallen</td>\n",
       "      <td>2023-08-10</td>\n",
       "      <td>PS5</td>\n",
       "      <td>US</td>\n",
       "      <td>GameStop</td>\n",
       "      <td>U&amp;I</td>\n",
       "      <td>20.0</td>\n",
       "      <td>36</td>\n",
       "      <td>Current</td>\n",
       "    </tr>\n",
       "    <tr>\n",
       "      <th>3875</th>\n",
       "      <td>2022-11-26</td>\n",
       "      <td>Atlas Fallen</td>\n",
       "      <td>2023-08-10</td>\n",
       "      <td>PS5</td>\n",
       "      <td>US</td>\n",
       "      <td>GameStop</td>\n",
       "      <td>U&amp;I</td>\n",
       "      <td>28.0</td>\n",
       "      <td>37</td>\n",
       "      <td>Current</td>\n",
       "    </tr>\n",
       "    <tr>\n",
       "      <th>3876</th>\n",
       "      <td>2023-03-18</td>\n",
       "      <td>Atlas Fallen</td>\n",
       "      <td>2023-08-10</td>\n",
       "      <td>PS5</td>\n",
       "      <td>US</td>\n",
       "      <td>Target.com</td>\n",
       "      <td>U&amp;I</td>\n",
       "      <td>16.0</td>\n",
       "      <td>21</td>\n",
       "      <td>Current</td>\n",
       "    </tr>\n",
       "    <tr>\n",
       "      <th>3877</th>\n",
       "      <td>2023-02-11</td>\n",
       "      <td>Atlas Fallen</td>\n",
       "      <td>2023-08-10</td>\n",
       "      <td>PS5</td>\n",
       "      <td>US</td>\n",
       "      <td>Target.com</td>\n",
       "      <td>U&amp;I</td>\n",
       "      <td>30.0</td>\n",
       "      <td>26</td>\n",
       "      <td>Current</td>\n",
       "    </tr>\n",
       "  </tbody>\n",
       "</table>\n",
       "<p>668 rows × 10 columns</p>\n",
       "</div>"
      ],
      "text/plain": [
       "            date         title release_date platform subsidiary      account  \\\n",
       "3210  2023-04-29  Atlas Fallen   2023-08-10      XSX      UK/EU  Smyths Toys   \n",
       "3211  2023-04-22  Atlas Fallen   2023-08-10      XSX      UK/EU  Smyths Toys   \n",
       "3212  2023-04-15  Atlas Fallen   2023-08-10      XSX      UK/EU  Smyths Toys   \n",
       "3213  2023-04-08  Atlas Fallen   2023-08-10      XSX      UK/EU  Smyths Toys   \n",
       "...          ...           ...          ...      ...        ...          ...   \n",
       "3874  2022-12-03  Atlas Fallen   2023-08-10      PS5         US     GameStop   \n",
       "3875  2022-11-26  Atlas Fallen   2023-08-10      PS5         US     GameStop   \n",
       "3876  2023-03-18  Atlas Fallen   2023-08-10      PS5         US   Target.com   \n",
       "3877  2023-02-11  Atlas Fallen   2023-08-10      PS5         US   Target.com   \n",
       "\n",
       "     distributor  units_sold  weeks_before_launch preorder_status  \n",
       "3210         NaN        15.0                   15         Current  \n",
       "3211         NaN        15.0                   16         Current  \n",
       "3212         NaN        15.0                   17         Current  \n",
       "3213         NaN        15.0                   18         Current  \n",
       "...          ...         ...                  ...             ...  \n",
       "3874         U&I        20.0                   36         Current  \n",
       "3875         U&I        28.0                   37         Current  \n",
       "3876         U&I        16.0                   21         Current  \n",
       "3877         U&I        30.0                   26         Current  \n",
       "\n",
       "[668 rows x 10 columns]"
      ]
     },
     "execution_count": 80,
     "metadata": {},
     "output_type": "execute_result"
    }
   ],
   "source": [
    "af = df[df['title']=='Atlas Fallen'] #af is our dataframe that contains only data about Atlas Fallen\n",
    "af"
   ]
  },
  {
   "cell_type": "markdown",
   "id": "ab6f175f",
   "metadata": {},
   "source": [
    "##### Quickly, I notice that despite there being 668 distinct orders for Atlas Fallen, there are only 41 distinct dates on which the orders are placed."
   ]
  },
  {
   "cell_type": "code",
   "execution_count": 81,
   "id": "fc56d74d",
   "metadata": {},
   "outputs": [
    {
     "name": "stdout",
     "output_type": "stream",
     "text": [
      "The number of unique preorders for \"Atlas Fallen\": 668\n",
      "The number of unique dates on which \"Atlas Fallen\" was preordered: 41\n"
     ]
    }
   ],
   "source": [
    "print('The number of unique preorders for \"Atlas Fallen\": {}'.format(len(af))) #length of the af dataframe\n",
    "print('The number of unique dates on which \"Atlas Fallen\" was preordered: {}'.format(len(set(af['date']))))\n",
    "\n",
    "# Python sets do not track duplicates. Turning a list into a set and taking the length of that set is a \n",
    "# quick way to count how many unique values there are in a list. "
   ]
  },
  {
   "cell_type": "markdown",
   "id": "5e5d8056",
   "metadata": {},
   "source": [
    "##### This is important to know for graphing. Rather than having to graph the sales for every date between August 2022 and June 2023, I now only have to graph 41 dates. \n",
    "\n",
    "##### \"weeks_before_launch\" is a better value to use for graphing than \"date\", due to the fact that it conveys an inherent meaning in relation to the business problem.\n",
    "    If we are to graph using \"date\", the x axis tells us very little. But if we graph using \"weeks_before_launch\", then the x axis tells us how close we are getting to the release date of Atlas Fallen."
   ]
  },
  {
   "cell_type": "markdown",
   "id": "b62a97c4",
   "metadata": {},
   "source": [
    "<br>\n",
    "<br>"
   ]
  },
  {
   "cell_type": "markdown",
   "id": "e9fb7aef",
   "metadata": {},
   "source": [
    "# <u><center>Step 2 - Graph the data<center></u>\n",
    "\n",
    "1. The x-axis will be 'weeks_before_launch'.\n",
    "\n",
    "2. The y-axis will be the cumulative sales for each week before launch.\n",
    "    \n",
    "<br>"
   ]
  },
  {
   "cell_type": "markdown",
   "id": "6d80842f",
   "metadata": {},
   "source": [
    "### 2a) Compute the total units sold for Atlas Fallen during each week before launch"
   ]
  },
  {
   "cell_type": "code",
   "execution_count": 106,
   "id": "1c858812",
   "metadata": {},
   "outputs": [
    {
     "data": {
      "text/plain": [
       "weeks_before_launch\n",
       "10    276.0\n",
       "11    455.0\n",
       "12    385.0\n",
       "13    438.0\n",
       "      ...  \n",
       "47    344.0\n",
       "48    282.0\n",
       "49    227.0\n",
       "50    204.0\n",
       "Name: units_sold, Length: 41, dtype: float64"
      ]
     },
     "execution_count": 106,
     "metadata": {},
     "output_type": "execute_result"
    }
   ],
   "source": [
    "# Group the af dataframe by 'weeks_before_launch' and sum the number of units sold during each week.\n",
    "\n",
    "# 'groupby' in Pandas works similarly to 'group by' in SQL, or pivot tables in Excel.\n",
    "af1 = af.groupby(['weeks_before_launch'])['units_sold'].sum() \n",
    "af1"
   ]
  },
  {
   "cell_type": "markdown",
   "id": "11a0fcb3",
   "metadata": {},
   "source": [
    "### 2b) Graph the total units of \"Atlas Fallen\" preordered during each week leading up to release"
   ]
  },
  {
   "cell_type": "code",
   "execution_count": 83,
   "id": "1b91410f",
   "metadata": {
    "scrolled": true
   },
   "outputs": [
    {
     "data": {
      "image/png": "[encoded data removed]",
      "text/plain": [
       "<Figure size 2000x700 with 1 Axes>"
      ]
     },
     "metadata": {},
     "output_type": "display_data"
    }
   ],
   "source": [
    "from matplotlib import pyplot as plt # for graphing\n",
    "\n",
    "fig = plt.figure(figsize = (20, 7)) # adjusts how much space the figure takes up on the screen\n",
    "plt.bar(af1.index, af1.values, color ='green',\n",
    "        width = 0.30) # defines the plot as a barchart and specifies which data to use for x and y\n",
    "\n",
    "plt.gca().invert_xaxis() # I invert the axis here in order to portray the graph as a progression of time.\n",
    "plt.xticks(range(0,51)) \n",
    "plt.grid(axis='y') # adds gridlines in the y direction\n",
    "\n",
    "plt.xlabel('Weeks before launch')\n",
    "plt.ylabel('Total units sold')\n",
    "plt.title('Total units of \"Atlas Fallen\" sold during each week leading up to launch')\n",
    "\n",
    "plt.show()"
   ]
  },
  {
   "cell_type": "markdown",
   "id": "b698a4c0",
   "metadata": {},
   "source": [
    "### 2c) Make note of any observations you have made from this graph\n",
    "1. As the release date grows closer, the number of preorder sales grows larger. There is an upwards trend.\n",
    "2. At 10 weeks before launch, the upwards trend breaks. But this is because the sales for 10 weeks before launch are not complete. We are currently in week 10.\n",
    "\n",
    "<br>\n",
    "<br>"
   ]
  },
  {
   "cell_type": "markdown",
   "id": "85e37e18",
   "metadata": {
    "collapsed": true
   },
   "source": [
    "# <u><center>Step 3 - Forecasting using Linear Regression<center></u>\n",
    "    \n",
    "We can use linear regression to predict what the sales for the upcoming weeks will be.\n",
    "    \n",
    "<br>"
   ]
  },
  {
   "cell_type": "markdown",
   "id": "f813ac6b",
   "metadata": {},
   "source": [
    "### 3a) Create your Linear Regression model using Scikit-Learn, and find the y-intercept / slope"
   ]
  },
  {
   "cell_type": "code",
   "execution_count": 103,
   "id": "793cddd7",
   "metadata": {},
   "outputs": [
    {
     "name": "stdout",
     "output_type": "stream",
     "text": [
      "The Y INTERCEPT of the regression line is 477.4668989547039\n",
      "The SLOPE of the regression line is -4.706620209059235\n"
     ]
    }
   ],
   "source": [
    "from sklearn.linear_model import LinearRegression\n",
    "\n",
    "X = af1.index # weeks_before_launch\n",
    "Y = af1.values # total number of units sold that week\n",
    "\n",
    "X = [[x] for x in X] # sklearn models need inputs as 2D arrays, so we are reformatting the inputs\n",
    "Y = [[x] for x in Y]\n",
    "\n",
    "model = LinearRegression()\n",
    "model.fit(X, Y)\n",
    "\n",
    "# Remember, all regression lines are of the form 'y = mx+b'\n",
    "y_int = model.intercept_[0] \n",
    "slope = model.coef_[0][0]\n",
    "\n",
    "print(\"The Y INTERCEPT of the regression line is {}\".format(y_int))\n",
    "print(\"The SLOPE of the regression line is {}\".format(slope))"
   ]
  },
  {
   "cell_type": "markdown",
   "id": "d8b0937e",
   "metadata": {},
   "source": [
    "### 3b) Using your newly found y intercept / slope, overlay the previous graph with the regression line"
   ]
  },
  {
   "cell_type": "code",
   "execution_count": 125,
   "id": "b9e430dd",
   "metadata": {},
   "outputs": [
    {
     "data": {
      "image/png": "[encoded data removed]",
      "text/plain": [
       "<Figure size 2000x700 with 1 Axes>"
      ]
     },
     "metadata": {},
     "output_type": "display_data"
    }
   ],
   "source": [
    "# This code is copied from the previous graph. I have simply overlaid the regression line. \n",
    "\n",
    "fig = plt.figure(figsize = (20, 7)) \n",
    "plt.bar(af1.index, af1.values, color ='green',\n",
    "        width = 0.30) \n",
    "\n",
    "plt.gca().invert_xaxis() \n",
    "plt.xticks(range(0,51)) \n",
    "plt.grid(axis='y') \n",
    "\n",
    "plt.xlabel('Weeks before launch')\n",
    "plt.ylabel('Total units sold')\n",
    "plt.title('Total units of \"Atlas Fallen\" preordered during each week leading up to launch')\n",
    "\n",
    "# This is the part where I plug in the y intercept & slope to draw a simple regression line. \n",
    "x = range(51)\n",
    "y = [slope*x + y_int for x in x] # y = m*x + b \n",
    "plt.plot(x,y)\n",
    "\n",
    "plt.show()"
   ]
  },
  {
   "cell_type": "markdown",
   "id": "0b0bdce7",
   "metadata": {},
   "source": [
    "### 3c) Compute the values of future weeks using your regression line"
   ]
  },
  {
   "cell_type": "code",
   "execution_count": 129,
   "id": "7781cd6d",
   "metadata": {},
   "outputs": [
    {
     "name": "stdout",
     "output_type": "stream",
     "text": [
      "During the 9th week before launch, 435.10731707317075 copies of Atlas Fallen are expected to be preordered.\n",
      "During the 8th week before launch, 439.81393728223 copies of Atlas Fallen are expected to be preordered.\n",
      "During the 7th week before launch, 444.52055749128925 copies of Atlas Fallen are expected to be preordered.\n",
      "During the 6th week before launch, 449.2271777003485 copies of Atlas Fallen are expected to be preordered.\n",
      "During the 5th week before launch, 453.9337979094077 copies of Atlas Fallen are expected to be preordered.\n",
      "During the 4th week before launch, 458.6404181184669 copies of Atlas Fallen are expected to be preordered.\n",
      "During the 3th week before launch, 463.34703832752615 copies of Atlas Fallen are expected to be preordered.\n",
      "During the 2th week before launch, 468.05365853658543 copies of Atlas Fallen are expected to be preordered.\n",
      "During the 1th week before launch, 472.76027874564465 copies of Atlas Fallen are expected to be preordered.\n"
     ]
    }
   ],
   "source": [
    "predictive_sum = 0 # This is a counter variable to hold the sum of all the weeks that we had to predict. \n",
    "for i in range(9,0,-1):\n",
    "    print('During the {}th week before launch, {} copies of Atlas Fallen are expected to be preordered.'.format(i,y[i]))\n",
    "    predictive_sum += y[i]\n",
    "\n",
    "# Predictive_sum will be used in 4b, so hold on tight\n"
   ]
  },
  {
   "cell_type": "markdown",
   "id": "70edc351",
   "metadata": {},
   "source": [
    "<br>"
   ]
  },
  {
   "cell_type": "markdown",
   "id": "ea9cc659",
   "metadata": {},
   "source": [
    "# <u>Step 4 - Calculate the total number of preorders expected for Atlas Fallen</u>"
   ]
  },
  {
   "cell_type": "markdown",
   "id": "8c07daca",
   "metadata": {},
   "source": [
    "### 4a) Calculate the CURRENT number of preorders"
   ]
  },
  {
   "cell_type": "code",
   "execution_count": 136,
   "id": "27ef71d1",
   "metadata": {},
   "outputs": [
    {
     "data": {
      "text/plain": [
       "13787.0"
      ]
     },
     "execution_count": 136,
     "metadata": {},
     "output_type": "execute_result"
    }
   ],
   "source": [
    "# We computed a dataframe called 'af' that contains all the presale orders for Atlas Fallen\n",
    "# The column 'units_sold' tells us how many units of Atlas Fallen were sold in each presale order.\n",
    "# Taking the sum of this column should tell us how many units of Atlas Fallen have been preordered up till now. \n",
    "\n",
    "af['units_sold'].sum()"
   ]
  },
  {
   "cell_type": "markdown",
   "id": "13e5567b",
   "metadata": {},
   "source": [
    "##### Currently, 13,787 copies of Atlas fallen have been preordered."
   ]
  },
  {
   "cell_type": "markdown",
   "id": "94cbe5d4",
   "metadata": {},
   "source": [
    "### 4b) Calculate the EXPECTED number of  preorders"
   ]
  },
  {
   "cell_type": "code",
   "execution_count": 138,
   "id": "da2622d4",
   "metadata": {},
   "outputs": [
    {
     "data": {
      "text/plain": [
       "4085.404181184669"
      ]
     },
     "execution_count": 138,
     "metadata": {},
     "output_type": "execute_result"
    }
   ],
   "source": [
    "# Currently, Atlas Fallen is 10 weeks away from launch.\n",
    "# The number of preorders for Week 9 and onwards can be predicted using the Linear Regression model that we created. \n",
    "# In part 3c, we calculated the expected number of preorders for week 9 onwards and summed them up into a variable called predictive_sum.\n",
    "\n",
    "predictive_sum"
   ]
  },
  {
   "cell_type": "markdown",
   "id": "62abe5c1",
   "metadata": {},
   "source": [
    "##### We expect 4,085 copies of Atlas Fallen to be preordered from now until launch."
   ]
  },
  {
   "cell_type": "markdown",
   "id": "39f356ec",
   "metadata": {},
   "source": [
    "### 4c) Add the two figures together to acquire the total number of preorders expected for Atlas Fallen"
   ]
  },
  {
   "cell_type": "code",
   "execution_count": 143,
   "id": "0481c2b2",
   "metadata": {},
   "outputs": [
    {
     "data": {
      "text/plain": [
       "17872"
      ]
     },
     "execution_count": 143,
     "metadata": {},
     "output_type": "execute_result"
    }
   ],
   "source": [
    "result = af['units_sold'].sum() + predictive_sum\n",
    "int(result) # round to a whole number. Can't sell half a game."
   ]
  },
  {
   "cell_type": "markdown",
   "id": "bfd47b54",
   "metadata": {},
   "source": [
    "# Final Answer : 17,872 copies of Atlas Fallen are expected to be preordered"
   ]
  }
 ],
 "metadata": {
  "kernelspec": {
   "display_name": "Python 3 (ipykernel)",
   "language": "python",
   "name": "python3"
  },
  "language_info": {
   "codemirror_mode": {
    "name": "ipython",
    "version": 3
   },
   "file_extension": ".py",
   "mimetype": "text/x-python",
   "name": "python",
   "nbconvert_exporter": "python",
   "pygments_lexer": "ipython3",
   "version": "3.11.1"
  }
 },
 "nbformat": 4,
 "nbformat_minor": 5
}
